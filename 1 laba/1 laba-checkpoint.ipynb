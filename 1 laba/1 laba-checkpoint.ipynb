{
 "cells": [
  {
   "cell_type": "markdown",
   "id": "ae21be08-52c1-440c-bbe6-78c980c905ff",
   "metadata": {},
   "source": [
    "***Практическое задание №1:*** Создал новую Markdown-ячейку и: написал заголовок \"Практическое задание №1\". Добавил жирный и курсивный текст. Создал нумерованный и маркированный списки. Вставил согласно индивидуального задания пример. Вставил изображение через URL.\n",
    "\n",
    "Нумерованный список:\n",
    "1. БМВ\n",
    "2. Мерседес\n",
    "3. Ауди\n",
    "   \n",
    "Маркированный список:\n",
    "- Россия\n",
    "- Япония\n",
    "- Германия\n",
    "\n",
    "  Формула для вычисления области, заключенной между кривыми:\n",
    "\n",
    "$$A = \\int_{a}^{b} |f(x) - g(x)| \\, dx.$$\n",
    "![Bmw S1000RR 2020](https://i.pinimg.com/736x/07/77/bd/0777bdcce0b0b6ba10e05660749544c9.jpg)\n"
   ]
  },
  {
   "cell_type": "markdown",
   "id": "95b85b7d-1ca4-4306-8785-1dec1600a375",
   "metadata": {},
   "source": [
    "***Задание:*** Создал ячейку Python-кода и: Запросил у пользователя его имя с помощью input(). Вывел приветствие: \"Привет, <имя>! Добро пожаловать в JupyterLab!”."
   ]
  },
  {
   "cell_type": "code",
   "execution_count": null,
   "id": "7f7d76e9-2880-434c-96de-ddba7750be54",
   "metadata": {},
   "outputs": [],
   "source": [
    "name = input(\"Пожалуйста, введите ваше имя: \")\n",
    "\n",
    "print(f\"Привет, {name}! Добро пожаловать в JupyterLab!\")\n"
   ]
  },
  {
   "cell_type": "markdown",
   "id": "6080c1e4-783e-41f7-a985-0e4135d86ac4",
   "metadata": {},
   "source": [
    "***Практическое задание №2:*** Изучить загрузку, создание и сохранение файлов в JupyterLab.\n",
    "1. Создал и сохранил текстовый файл с помощью open().\n",
    " 2. Записал в него несколько строк текста.\n",
    " 3. Закрыл файл и затем открыл его снова, считав содержимое и выведя на экран.\n",
    " 4. Проверил, существует ли файл, используя os.path.exists().\n",
    " 5. Удалил файл с помощью модуля os.\n"
   ]
  },
  {
   "cell_type": "code",
   "execution_count": null,
   "id": "5d98d476-9fc8-4481-8be7-1b41d30ba807",
   "metadata": {},
   "outputs": [],
   "source": [
    "import os\n",
    "\n",
    "# 1. Создал файл и записал в него текст\n",
    "with open(\"example.txt\", \"w\", encoding=\"utf-8\") as file:\n",
    "    file.write(\"Первая строка текста.\\n\")\n",
    "    file.write(\"Вторая строка текста.\\n\")\n",
    "    file.write(\"Третья строка текста.\\n\")\n",
    "\n",
    "# 2. Прочитал и вывел содержимое файла\n",
    "with open(\"example.txt\", \"r\", encoding=\"utf-8\") as file:\n",
    "    content = file.read()\n",
    "    print(\"Содержимое файла:\")\n",
    "    print(content)\n",
    "\n",
    "# 3. Проверил существоване файла\n",
    "if os.path.exists(\"example.txt\"):\n",
    "    print(\"Файл 'example.txt' существует.\")\n",
    "else:\n",
    "    print(\"Файл 'example.txt' не существует.\")\n",
    "\n",
    "# 4. Удалил файл\n",
    "if os.path.exists(\"example.txt\"):\n",
    "    os.remove(\"example.txt\")\n",
    "    print(\"Файл 'example.txt' удален.\")\n",
    "else:\n",
    "    print(\"Файл 'example.txt' не существует, удаление не требуется.\")"
   ]
  },
  {
   "cell_type": "markdown",
   "id": "0cfb85a7-e4c5-4022-8631-20da0f530347",
   "metadata": {},
   "source": [
    "***Практическое задание №3:*** Изучить магические команды для удобной работы в JupyterLab.\n",
    "1. Вывел список всех доступных магических команд (%lsmagic ).\n",
    "2. Использовал %time и %%timeit для измерения времени выполнения кода. \n",
    "3. Создал Python-скрипт в Jupyter (%%writefile script.py ) и выполнил его через !python script.py .\n",
    "4. Вывел список файлов в текущей директории с помощью %ls . \n",
    "5. Использовал %history для просмотра истории команд.\n"
   ]
  },
  {
   "cell_type": "code",
   "execution_count": null,
   "id": "0da519c9-5d1e-4149-97d6-dbe8b2be1a0f",
   "metadata": {},
   "outputs": [],
   "source": [
    "# 1. Вывел список магических команд\n",
    "print(\"1. Список магических команд:\")\n",
    "%lsmagic"
   ]
  },
  {
   "cell_type": "code",
   "execution_count": null,
   "id": "20248937-536f-402d-9f65-0dbcab1d238a",
   "metadata": {},
   "outputs": [],
   "source": [
    "# 2. Измерил время выполнения кода\n",
    "print(\"\\n2. Измерение времени выполнения:\")\n",
    "print(\"Время выполнения sum(range(1000)):\")\n",
    "%time sum(range(1000))"
   ]
  },
  {
   "cell_type": "code",
   "execution_count": null,
   "id": "89095a33-a407-4931-903e-f8d8e3ac70ac",
   "metadata": {},
   "outputs": [],
   "source": [
    "%%timeit\n",
    "total = 0\n",
    "for i in range(1000):\n",
    "    total += i"
   ]
  },
  {
   "cell_type": "code",
   "execution_count": null,
   "id": "95ab099d-9647-4bc2-af8b-a878980f8a96",
   "metadata": {},
   "outputs": [],
   "source": [
    "%%writefile script.py\n",
    "print(\"Привет, это мой скрипт!\")\n",
    "for i in range(5):\n",
    "    print(f\"Итерация {i}\")"
   ]
  },
  {
   "cell_type": "code",
   "execution_count": null,
   "id": "81af9f10-0d64-425e-8cad-bfd0be30f5a6",
   "metadata": {},
   "outputs": [],
   "source": [
    "!python script.py"
   ]
  },
  {
   "cell_type": "code",
   "execution_count": null,
   "id": "042f3696-a7f2-407d-a3ce-da576021f3ee",
   "metadata": {},
   "outputs": [],
   "source": [
    "# 4. Вывел список файлов в текущей директории\n",
    "print(\"\\n4. Список файлов в текущей директории:\")\n",
    "%ls"
   ]
  },
  {
   "cell_type": "code",
   "execution_count": null,
   "id": "df44ae07-5cd2-4b75-8ef8-4423b043dfb7",
   "metadata": {},
   "outputs": [],
   "source": [
    "# 5. Просмотрел историю команд\n",
    "print(\"\\n5. История команд:\")\n",
    "%history"
   ]
  },
  {
   "cell_type": "markdown",
   "id": "a43f35ce-7415-452d-a820-c4a4c658ff4e",
   "metadata": {},
   "source": [
    "***Практическое задание №4:*** Изучить выполнение команд терминала прямо из JupyterLab.\n",
    "1. Вывел список файлов в текущей директории с помощью !ls.\n",
    "2. Проверил, какой Python используется ( !which python ).\n",
    "3. Создал папку test_folder (!mkdir test_folder ) и убедился, что она появилась. \n",
    "4. Переместил файл в новую папку и удалил его. \n",
    "5. Очистил вывод в ячейке (!clear).\n"
   ]
  },
  {
   "cell_type": "code",
   "execution_count": 17,
   "id": "8544146a-2547-4723-b106-0c585f214886",
   "metadata": {},
   "outputs": [
    {
     "name": "stdout",
     "output_type": "stream",
     "text": [
      "Папка 'test_folder' создана.\n",
      "\n",
      "Содержимое текущей директории:\n"
     ]
    },
    {
     "name": "stderr",
     "output_type": "stream",
     "text": [
      "Подпапка или файл test_folder уже существует.\n"
     ]
    },
    {
     "name": "stdout",
     "output_type": "stream",
     "text": [
      " Том в устройстве C не имеет метки.\n",
      " Серийный номер тома: F404-D238\n",
      "\n",
      " Содержимое папки C:\\Users\\Admin\n",
      "\n",
      "06.03.2025  21:28    <DIR>          .\n",
      "06.03.2025  21:28    <DIR>          ..\n",
      "01.10.2023  00:13             6 904 -1.14-windows.xml\n",
      "14.02.2025  14:19    <DIR>          .anaconda\n",
      "06.03.2025  21:28    <DIR>          .conda\n",
      "14.02.2025  14:20               146 .condarc\n",
      "14.02.2025  14:19    <DIR>          .continuum\n",
      "08.02.2024  13:02    <DIR>          .dotnet\n",
      "02.06.2023  13:20    <DIR>          .idlerc\n",
      "06.03.2025  20:44    <DIR>          .ipynb_checkpoints\n",
      "27.02.2025  20:32    <DIR>          .ipython\n",
      "14.02.2025  14:21    <DIR>          .jupyter\n",
      "15.10.2023  19:36    <DIR>          .Ld9VirtualBox\n",
      "24.12.2024  22:17    <DIR>          .matplotlib\n",
      "06.07.2023  10:20    <DIR>          .ms-ad\n",
      "28.02.2025  15:59               176 .packettracer\n",
      "25.04.2024  23:48    <DIR>          .pencil\n",
      "08.02.2024  13:55    <DIR>          .templateengine\n",
      "18.02.2024  00:16    <DIR>          .thumbnails\n",
      "20.12.2024  01:44    <DIR>          .VirtualBox\n",
      "06.03.2025  20:44    <DIR>          .virtual_documents\n",
      "23.09.2024  15:19    <DIR>          .vscode\n",
      "06.03.2025  20:37             6 230 1 laba.ipynb\n",
      "28.02.2025  14:46             2 468 1_2 laba.ipynb\n",
      "28.02.2025  14:46            95 532 1_3 laba.ipynb\n",
      "06.03.2025  21:03            15 467 1_4 laba.ipynb\n",
      "31.05.2023  16:10    <DIR>          3D Objects\n",
      "14.02.2025  14:21    <DIR>          anaconda3\n",
      "27.02.2025  20:28    <DIR>          anaconda_projects\n",
      "04.03.2025  22:05    <DIR>          BrawlhallaReplays\n",
      "28.02.2025  16:00    <DIR>          Cisco Packet Tracer 8.2.1\n",
      "31.05.2023  16:10    <DIR>          Contacts\n",
      "05.03.2025  15:49    <DIR>          Desktop\n",
      "23.02.2025  01:49    <DIR>          Documents\n",
      "06.03.2025  20:12    <DIR>          Downloads\n",
      "18.02.2024  04:12             7 827 ex-list\n",
      "31.05.2023  16:10    <DIR>          Favorites\n",
      "01.06.2023  23:27    <DIR>          Kumir\n",
      "31.05.2023  16:10    <DIR>          Links\n",
      "31.05.2023  16:10    <DIR>          Music\n",
      "28.02.2025  14:38    <DIR>          old\n",
      "28.02.2025  14:44                23 old1.txt\n",
      "16.12.2023  19:52    <DIR>          OneDrive\n",
      "28.02.2025  13:28    <DIR>          Pictures\n",
      "16.02.2024  11:02    <DIR>          Saved Games\n",
      "28.02.2025  13:35               108 script.py\n",
      "31.05.2023  16:11    <DIR>          Searches\n",
      "08.09.2023  10:35    <DIR>          source\n",
      "28.02.2025  14:06    <DIR>          test_folde\n",
      "06.03.2025  21:26    <DIR>          test_folder\n",
      "27.02.2025  22:58               116 test_script.py\n",
      "28.02.2025  13:59               628 Untitled.ipynb\n",
      "28.02.2025  14:46                 0 untitled.py\n",
      "27.02.2025  21:16                72 Untitled1.ipynb\n",
      "27.02.2025  22:27               979 untitled1.py\n",
      "06.03.2025  21:28             8 224 Untitled2.ipynb\n",
      "12.10.2024  20:05    <DIR>          Videos\n",
      "22.10.2024  22:52    <DIR>          VirtualBox VMs\n",
      "16.12.2023  18:34    <DIR>          zLauncher\n",
      "              16 файлов        144 900 байт\n",
      "              43 папок  44 217 782 272 байт свободно\n",
      "\n",
      "Файл 'temp_file.txt' создан.\n",
      "Перемещено файлов:         1.\n",
      "\n",
      "Файл 'temp_file.txt' перемещён в папку 'test_folder'.\n",
      "\n",
      "Содержимое папки 'test_folder':\n",
      " Том в устройстве C не имеет метки.\n",
      " Серийный номер тома: F404-D238\n",
      "\n",
      " Содержимое папки C:\\Users\\Admin\\test_folder\n",
      "\n",
      "06.03.2025  21:28    <DIR>          .\n",
      "06.03.2025  21:28    <DIR>          ..\n",
      "06.03.2025  21:28                19 temp_file.txt\n",
      "               1 файлов             19 байт\n",
      "               2 папок  44 217 782 272 байт свободно\n",
      "Файл 'C:\\Users\\Admin\\test_folder\\temp_file.txt' успешно удалён.\n",
      " Том в устройстве C не имеет метки.\n",
      " Серийный номер тома: F404-D238\n",
      "\n",
      " Содержимое папки C:\\Users\\Admin\\test_folder\n",
      "\n",
      "06.03.2025  21:28    <DIR>          .\n",
      "06.03.2025  21:28    <DIR>          ..\n",
      "               0 файлов              0 байт\n",
      "               2 папок  44 217 782 272 байт свободно\n"
     ]
    }
   ],
   "source": [
    "# 1. Создал папку test_folder\n",
    "!mkdir test_folder\n",
    "print(\"Папка 'test_folder' создана.\")\n",
    "\n",
    "# 2. Проверил, что папка появилась\n",
    "print(\"\\nСодержимое текущей директории:\")\n",
    "!dir\n",
    "\n",
    "# 3. Создал файл для перемещения\n",
    "file_name = \"temp_file.txt\"\n",
    "with open(file_name, \"w\") as f:\n",
    "    f.write(\"Это временный файл.\")\n",
    "print(f\"\\nФайл '{file_name}' создан.\")\n",
    "\n",
    "# 4. Переместил файл в папку test_folder\n",
    "!move {file_name} test_folder/\n",
    "print(f\"\\nФайл '{file_name}' перемещён в папку 'test_folder'.\")\n",
    "\n",
    "# 5. Проверил содержимое папки test_folder\n",
    "print(\"\\nСодержимое папки 'test_folder':\")\n",
    "!dir test_folder\n",
    "\n",
    "import os\n",
    "\n",
    "# Указал путь к файлу\n",
    "file_path = \"C:\\\\Users\\\\Admin\\\\test_folder\\\\temp_file.txt\"\n",
    "\n",
    "# Удалил файл с помощью команды del и проверил, удадлилась ли она\n",
    "if os.path.exists(file_path):\n",
    "    os.system(f'del \"{file_path}\"')\n",
    "    print(f\"Файл '{file_path}' успешно удалён.\")\n",
    "else:\n",
    "    print(f\"Файл '{file_path}' не найден.\")\n",
    "!dir test_folder"
   ]
  },
  {
   "cell_type": "code",
   "execution_count": null,
   "id": "22c0a1cd-70c3-48a5-8300-b3d94f4f14b5",
   "metadata": {},
   "outputs": [],
   "source": []
  }
 ],
 "metadata": {
  "kernelspec": {
   "display_name": "Python [conda env:base] *",
   "language": "python",
   "name": "conda-base-py"
  },
  "language_info": {
   "codemirror_mode": {
    "name": "ipython",
    "version": 3
   },
   "file_extension": ".py",
   "mimetype": "text/x-python",
   "name": "python",
   "nbconvert_exporter": "python",
   "pygments_lexer": "ipython3",
   "version": "3.12.7"
  }
 },
 "nbformat": 4,
 "nbformat_minor": 5
}
