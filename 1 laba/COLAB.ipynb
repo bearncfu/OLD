{
  "nbformat": 4,
  "nbformat_minor": 0,
  "metadata": {
    "colab": {
      "provenance": []
    },
    "kernelspec": {
      "name": "python3",
      "display_name": "Python 3"
    },
    "language_info": {
      "name": "python"
    }
  },
  "cells": [
    {
      "cell_type": "code",
      "execution_count": null,
      "metadata": {
        "colab": {
          "base_uri": "https://localhost:8080/"
        },
        "id": "4oAZstC7u0jK",
        "outputId": "1486b377-1cdc-4487-c09b-5c7e4a6597c6"
      },
      "outputs": [
        {
          "output_type": "stream",
          "name": "stdout",
          "text": [
            "Drive already mounted at /content/drive; to attempt to forcibly remount, call drive.mount(\"/content/drive\", force_remount=True).\n",
            "'Colab Notebooks'   my_text_file.txt   students.csv\n",
            "Файл '/content/drive/MyDrive/my_text_file.txt' успешно создан.\n",
            "Содержимое файла:\n",
            "Это первая строка текста.\n",
            "Это вторая строка текста.\n",
            "\n",
            "Файл '/content/drive/MyDrive/students.csv' успешно создан и заполнен.\n"
          ]
        }
      ],
      "source": [
        "# 1. Подключил Google Drive\n",
        "from google.colab import drive\n",
        "drive.mount('/content/drive')\n",
        "\n",
        "# Проверил подключение\n",
        "!ls /content/drive/MyDrive\n",
        "\n",
        "# 2. Создал текстовый файл\n",
        "file_1 = \"/content/drive/MyDrive/my_text_file.txt\"\n",
        "with open(file_1, \"w\", encoding=\"utf-8\") as file:\n",
        "    file.write(\"Это первая строка текста.\\n\")\n",
        "    file.write(\"Это вторая строка текста.\\n\")\n",
        "print(f\"Файл '{file_1}' успешно создан.\")\n",
        "\n",
        "# 3. Чтение текстового файла\n",
        "with open(file_1, \"r\", encoding=\"utf-8\") as file:\n",
        "    content = file.read()\n",
        "print(\"Содержимое файла:\")\n",
        "print(content)\n",
        "\n",
        "# 4. Чтение CSV-файла\n",
        "students = [\n",
        "    [\"Иванов И.И.\", 20, \"ИВТ-101\"],\n",
        "    [\"Петров П.П.\", 22, \"ИВТ-102\"],\n",
        "    [\"Сидорова А.А.\", 21, \"ИВТ-103\"]\n",
        "]\n",
        "\n",
        "# Путь к CSV-файлу в Google Drive\n",
        "csv_path = \"/content/drive/MyDrive/students.csv\"\n",
        "\n",
        "# Записал список в CSV-файл\n",
        "with open(csv_path, \"w\", encoding=\"utf-8\") as file:\n",
        "    for student in students:\n",
        "# Преобреобразовал каждый элемент списка в строку и объединил через запятую\n",
        "        line = \",\".join(map(str, student))\n",
        "        file.write(line + \"\\n\")  # Записал строку в файл\n",
        "\n",
        "print(f\"Файл '{csv_path}' успешно создан и заполнен.\")"
      ]
    }
  ]
}